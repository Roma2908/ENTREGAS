{
  "nbformat": 4,
  "nbformat_minor": 0,
  "metadata": {
    "colab": {
      "provenance": []
    },
    "kernelspec": {
      "name": "python3",
      "display_name": "Python 3"
    },
    "language_info": {
      "name": "python"
    }
  },
  "cells": [
    {
      "cell_type": "markdown",
      "source": [
        "### CREAMOS EL ARCHIVO SQL\n"
      ],
      "metadata": {
        "id": "I5g8tGQu03OV"
      }
    },
    {
      "cell_type": "code",
      "source": [
        "with open(\"consulta.sql\", \"w\") as file:\n",
        "    file.write(\"SELECT * FROM Ejemplo;\")"
      ],
      "metadata": {
        "id": "ybg247eL06fc"
      },
      "execution_count": 1,
      "outputs": []
    },
    {
      "cell_type": "markdown",
      "source": [
        "### Librerias y LLamar a Lector_deConsulta.py"
      ],
      "metadata": {
        "id": "NhAbRbyv1Fwz"
      }
    },
    {
      "cell_type": "code",
      "source": [
        "!pip install mysql-connector-python pyarrow pandas"
      ],
      "metadata": {
        "colab": {
          "base_uri": "https://localhost:8080/"
        },
        "id": "GqaaZDxC1M-8",
        "outputId": "03618631-4744-4147-b23e-2f45b327bb65"
      },
      "execution_count": 2,
      "outputs": [
        {
          "output_type": "stream",
          "name": "stdout",
          "text": [
            "Collecting mysql-connector-python\n",
            "  Downloading mysql_connector_python-9.3.0-cp311-cp311-manylinux_2_28_x86_64.whl.metadata (7.2 kB)\n",
            "Requirement already satisfied: pyarrow in /usr/local/lib/python3.11/dist-packages (18.1.0)\n",
            "Requirement already satisfied: pandas in /usr/local/lib/python3.11/dist-packages (2.2.2)\n",
            "Requirement already satisfied: numpy>=1.23.2 in /usr/local/lib/python3.11/dist-packages (from pandas) (2.0.2)\n",
            "Requirement already satisfied: python-dateutil>=2.8.2 in /usr/local/lib/python3.11/dist-packages (from pandas) (2.9.0.post0)\n",
            "Requirement already satisfied: pytz>=2020.1 in /usr/local/lib/python3.11/dist-packages (from pandas) (2025.2)\n",
            "Requirement already satisfied: tzdata>=2022.7 in /usr/local/lib/python3.11/dist-packages (from pandas) (2025.2)\n",
            "Requirement already satisfied: six>=1.5 in /usr/local/lib/python3.11/dist-packages (from python-dateutil>=2.8.2->pandas) (1.17.0)\n",
            "Downloading mysql_connector_python-9.3.0-cp311-cp311-manylinux_2_28_x86_64.whl (33.9 MB)\n",
            "\u001b[2K   \u001b[90m━━━━━━━━━━━━━━━━━━━━━━━━━━━━━━━━━━━━━━━━\u001b[0m \u001b[32m33.9/33.9 MB\u001b[0m \u001b[31m58.6 MB/s\u001b[0m eta \u001b[36m0:00:00\u001b[0m\n",
            "\u001b[?25hInstalling collected packages: mysql-connector-python\n",
            "Successfully installed mysql-connector-python-9.3.0\n"
          ]
        }
      ]
    },
    {
      "cell_type": "code",
      "source": [
        "!python Lector_deConsulta.py"
      ],
      "metadata": {
        "colab": {
          "base_uri": "https://localhost:8080/"
        },
        "id": "QrpaBdjc10eO",
        "outputId": "2fa1275f-5c80-4ee1-d484-e4cc67d2fbb8"
      },
      "execution_count": 3,
      "outputs": [
        {
          "output_type": "stream",
          "name": "stdout",
          "text": [
            "Conexión exitosa\n",
            "/content/Lector_deConsulta.py:31: UserWarning: pandas only supports SQLAlchemy connectable (engine/connection) or database string URI or sqlite3 DBAPI2 connection. Other DBAPI2 objects are not tested. Please consider using SQLAlchemy.\n",
            "  df = pd.read_sql(query, conn)\n",
            "Datos guardados en '/content/Carpeta_ejemplo/resultado.parquet'\n",
            "Conexión cerrada.\n"
          ]
        }
      ]
    },
    {
      "cell_type": "markdown",
      "source": [
        "### VERIFICAMOS QUE ESTE BIEN EL ARCHIVO CREADO"
      ],
      "metadata": {
        "id": "1cyLNdYf3c7T"
      }
    },
    {
      "cell_type": "code",
      "source": [
        "import os, pandas as pd\n",
        "\n",
        "print(os.listdir(\"/content/Carpeta_ejemplo\"))\n",
        "df = pd.read_parquet(\"/content/Carpeta_ejemplo/resultado.parquet\")\n",
        "print(df)\n"
      ],
      "metadata": {
        "colab": {
          "base_uri": "https://localhost:8080/"
        },
        "id": "qACZOyfB3bLi",
        "outputId": "308753c2-fd04-41c8-9912-377bb829ce73"
      },
      "execution_count": 5,
      "outputs": [
        {
          "output_type": "stream",
          "name": "stdout",
          "text": [
            "['resultado.parquet']\n",
            "   Casas  Empleado  Animales  Apartamente  Carros\n",
            "0      1         2         3            4       5\n",
            "1      2         3         4            5       6\n",
            "2      3         4         5            6       7\n",
            "3      8         9         0            1       2\n",
            "4      3         4         5            6       7\n",
            "5      8         9         0            1       2\n",
            "6      3         4         5            6       7\n",
            "7      8         9         0            1       2\n",
            "8      3         4         5            6       7\n",
            "9      8         9         0            1       2\n"
          ]
        }
      ]
    }
  ]
}