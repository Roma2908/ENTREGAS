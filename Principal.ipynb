{
 "cells": [
  {
   "cell_type": "markdown",
   "metadata": {
    "id": "I5g8tGQu03OV"
   },
   "source": [
    "### CREAMOS EL ARCHIVO SQL\n"
   ]
  },
  {
   "cell_type": "code",
   "execution_count": 1,
   "metadata": {
    "id": "ybg247eL06fc"
   },
   "outputs": [],
   "source": [
    "with open(\"consulta.sql\", \"w\") as file:\n",
    "    file.write(\"SELECT * FROM Ejemplo;\")"
   ]
  },
  {
   "cell_type": "markdown",
   "metadata": {
    "id": "NhAbRbyv1Fwz"
   },
   "source": [
    "### Librerias y LLamar a Lector_deConsulta.py"
   ]
  },
  {
   "cell_type": "code",
   "execution_count": 4,
   "metadata": {
    "colab": {
     "base_uri": "https://localhost:8080/"
    },
    "id": "QrpaBdjc10eO",
    "outputId": "2fa1275f-5c80-4ee1-d484-e4cc67d2fbb8"
   },
   "outputs": [
    {
     "name": "stdout",
     "output_type": "stream",
     "text": [
      "Conexión exitosa\n",
      "/home/roma/ENTREGAS/ENTREGAS/Lector_deConsulta.py:31: UserWarning: pandas only supports SQLAlchemy connectable (engine/connection) or database string URI or sqlite3 DBAPI2 connection. Other DBAPI2 objects are not tested. Please consider using SQLAlchemy.\n",
      "  df = pd.read_sql(query, conn)\n",
      "Datos guardados en '/home/roma/ENTREGAS/ENTREGAS/Carpeta_ejemplo/resultado.parquet'\n",
      "Conexión cerrada.\n"
     ]
    }
   ],
   "source": [
    "!python Lector_deConsulta.py"
   ]
  },
  {
   "cell_type": "markdown",
   "metadata": {
    "id": "1cyLNdYf3c7T"
   },
   "source": [
    "### VERIFICAMOS QUE ESTE BIEN EL ARCHIVO CREADO"
   ]
  },
  {
   "cell_type": "code",
   "execution_count": null,
   "metadata": {
    "colab": {
     "base_uri": "https://localhost:8080/"
    },
    "id": "qACZOyfB3bLi",
    "outputId": "308753c2-fd04-41c8-9912-377bb829ce73"
   },
   "outputs": [
    {
     "name": "stdout",
     "output_type": "stream",
     "text": [
      "['resultado.parquet']\n",
      "   Casas  Empleado  Animales  Apartamente  Carros\n",
      "0      1         2         3            4       5\n",
      "1      2         3         4            5       6\n",
      "2      3         4         5            6       7\n",
      "3      8         9         0            1       2\n",
      "4      3         4         5            6       7\n",
      "5      8         9         0            1       2\n",
      "6      3         4         5            6       7\n",
      "7      8         9         0            1       2\n",
      "8      3         4         5            6       7\n",
      "9      8         9         0            1       2\n"
     ]
    }
   ],
   "source": [
    "# Leer config.json para conocer la carpeta de salida\n",
    "import os\n",
    "import json\n",
    "import pandas as pd\n",
    "\n",
    "with open(\"config.json\", \"r\") as f:\n",
    "    config_json = json.load(f)\n",
    "\n",
    "# Ruta dinámica desde el notebook\n",
    "notebook_dir = os.getcwd()\n",
    "output_dir = os.path.join(notebook_dir, config_json[\"output_folder\"])\n",
    "output_file = os.path.join(output_dir, \"resultado.parquet\")\n",
    "\n",
    "print(os.listdir(output_dir))\n",
    "df = pd.read_parquet(output_file)\n",
    "print(df)\n"
   ]
  }
 ],
 "metadata": {
  "colab": {
   "provenance": []
  },
  "kernelspec": {
   "display_name": "python_trabajo",
   "language": "python",
   "name": "python3"
  },
  "language_info": {
   "codemirror_mode": {
    "name": "ipython",
    "version": 3
   },
   "file_extension": ".py",
   "mimetype": "text/x-python",
   "name": "python",
   "nbconvert_exporter": "python",
   "pygments_lexer": "ipython3",
   "version": "3.10.12"
  }
 },
 "nbformat": 4,
 "nbformat_minor": 0
}
